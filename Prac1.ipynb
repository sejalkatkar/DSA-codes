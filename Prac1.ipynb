{
  "nbformat": 4,
  "nbformat_minor": 0,
  "metadata": {
    "colab": {
      "provenance": [],
      "authorship_tag": "ABX9TyP4tkVGZOIzDEKX2biVJ0nW",
      "include_colab_link": true
    },
    "kernelspec": {
      "name": "python3",
      "display_name": "Python 3"
    },
    "language_info": {
      "name": "python"
    }
  },
  "cells": [
    {
      "cell_type": "markdown",
      "metadata": {
        "id": "view-in-github",
        "colab_type": "text"
      },
      "source": [
        "<a href=\"https://colab.research.google.com/github/sejalkatkar/DSA-codes/blob/main/Prac1.ipynb\" target=\"_parent\"><img src=\"https://colab.research.google.com/assets/colab-badge.svg\" alt=\"Open In Colab\"/></a>"
      ]
    },
    {
      "cell_type": "markdown",
      "source": [
        " Data Wrangling I\n",
        "Perform the following operations using Python on any open source dataset (e.g., data.csv)\n",
        "1. Import all the required Python Libraries.\n",
        "2. Locate an open source data from the web (e.g., https://www.kaggle.com\n",
        "). Provide a clear\n",
        " description of the data and its source (i.e., URL of the web site).\n",
        "3. Load the Dataset into pandas dataframe.\n",
        "4. Data Preprocessing: check for missing values in the data using pandas isnull(), describe()\n",
        "function to get some initial statistics. Provide variable descriptions. Types of variables etc.\n",
        "Check the dimensions of the data frame.\n",
        "5. Data Formatting and Data Normalization: Summarize the types of variables by checking\n",
        "the data types (i.e., character, numeric, integer, factor, and logical) of the variables in the\n",
        "data set. If variables are not in the correct data type, apply proper type conversions.\n",
        "6. Turn categorical variables into quantitative variables in Python.\n",
        "In addition to the codes and outputs, explain every operation that you do in the above steps and\n",
        "explain everything that you do to import/read/scrape the data set."
      ],
      "metadata": {
        "id": "I2MBTA7xMQfN"
      }
    },
    {
      "cell_type": "code",
      "source": [
        "import pandas as pd"
      ],
      "metadata": {
        "id": "fpYI25sqMXZ1"
      },
      "execution_count": 3,
      "outputs": []
    }
  ]
}